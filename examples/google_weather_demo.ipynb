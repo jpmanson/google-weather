 {
  "cells": [
    {
      "cell_type": "markdown",
      "metadata": {
        "id": "view-in-github",
        "colab_type": "text"
      },
      "source": [
        "<a href=\"https://colab.research.google.com/github/jpmanson/google-weather/blob/main/examples/google_weather_demo.ipynb\" target=\"_parent\"><img src=\"https://colab.research.google.com/assets/colab-badge.svg\" alt=\"Open In Colab\"/></a>"
      ]
    },
    {
      "cell_type": "markdown",
      "metadata": {
        "id": "introduction"
      },
      "source": [
        "# pygoogleweather Demo\n",
        "\n",
        "Este notebook demuestra cómo usar la librería `pygoogleweather` para obtener información del clima desde Google Search.\n",
        "\n",
        "## Instalación\n",
        "\n",
        "Primero, instalamos la librería y sus dependencias:"
      ]
    },
    {
      "cell_type": "code",
      "execution_count": null,
      "metadata": {
        "id": "installation"
      },
      "source": [
        "!pip install pygoogleweather\n",
        "!playwright install chromium"
      ],
      "outputs": []
    },
    {
      "cell_type": "markdown",
      "metadata": {
        "id": "basic-usage"
      },
      "source": [
        "## Uso Básico\n",
        "\n",
        "Importamos la librería y creamos una instancia del scraper:"
      ]
    },
    {
      "cell_type": "code",
      "execution_count": null,
      "metadata": {
        "id": "import"
      },
      "source": [
        "from google_weather.weather import WeatherScraper\n",
        "\n",
        "# Crear instancia del scraper con modo debug\n",
        "scraper = WeatherScraper(debug=True)"
      ],
      "outputs": []
    },
    {
      "cell_type": "markdown",
      "metadata": {
        "id": "examples"
      },
      "source": [
        "### Ejemplos en diferentes ciudades y lenguajes"
      ]
    },
    {
      "cell_type": "code",
      "execution_count": null,
      "metadata": {
        "id": "buenos-aires"
      },
      "source": [
        "# Clima en Buenos Aires (español)\n",
        "result = scraper.get_weather('Buenos Aires', lang='es')\n",
        "print(\"Buenos Aires (ES):\")\n",
        "print(result)\n",
        "print()"
      ],
      "outputs": []
    },
    {
      "cell_type": "code",
      "execution_count": null,
      "metadata": {
        "id": "new-york"
      },
      "source": [
        "# Clima en Nueva York (inglés)\n",
        "result = scraper.get_weather('New York', lang='en')\n",
        "print(\"New York (EN):\")\n",
        "print(result)\n",
        "print()"
      ],
      "outputs": []
    },
    {
      "cell_type": "code",
      "execution_count": null,
      "metadata": {
        "id": "paris"
      },
      "source": [
        "# Clima en París (francés)\n",
        "result = scraper.get_weather('Paris', lang='fr')\n",
        "print(\"Paris (FR):\")\n",
        "print(result)\n",
        "print()"
      ],
      "outputs": []
    },
    {
      "cell_type": "markdown",
      "metadata": {
        "id": "custom-units"
      },
      "source": [
        "### Unidades Personalizadas\n",
        "\n",
        "Podemos obtener el clima con diferentes unidades de temperatura y viento:"
      ]
    },
    {
      "cell_type": "code",
      "execution_count": null,
      "metadata": {
        "id": "fahrenheit"
      },
      "source": [
        "# Clima en Fahrenheit y mph\n",
        "result = scraper.get_weather(\n",
        "    'Tokyo', \n",
        "    lang='en',\n",
        "    temp_unit='F',\n",
        "    wind_unit='mph'\n",
        ")\n",
        "print(\"Tokyo (°F, mph):\")\n",
        "print(result)\n",
        "print()"
      ],
      "outputs": []
    },
    {
      "cell_type": "markdown",
      "metadata": {
        "id": "error-handling"
      },
      "source": [
        "### Manejo de Errores\n",
        "\n",
        "La librería maneja apropiadamente los casos de error:"
      ]
    },
    {
      "cell_type": "code",
      "execution_count": null,
      "metadata": {
        "id": "invalid-city"
      },
      "source": [
        "# Intentar obtener el clima para una ciudad inválida\n",
        "try:\n",
        "    result = scraper.get_weather('ThisCityDoesNotExist12345')\n",
        "except Exception as e:\n",
        "    print(f\"Error esperado: {str(e)}\")"
      ],
      "outputs": []
    }
  ],
  "metadata": {
    "colab": {
      "name": "google_weather_demo.ipynb",
      "provenance": [],
      "collapsed_sections": []
    },
    "kernelspec": {
      "name": "python3",
      "display_name": "Python 3"
    },
    "language_info": {
      "name": "python"
    }
  },
  "nbformat": 4,
  "nbformat_minor": 0
}